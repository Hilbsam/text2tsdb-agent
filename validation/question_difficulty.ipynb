{
 "cells": [
  {
   "cell_type": "markdown",
   "id": "f747c20d",
   "metadata": {},
   "source": [
    "# Einstufung der Fragen nach Schwierigkeitsgrad\n",
    "\n",
    "Dieses Notizbuch hat Copilot für einige der Code-Snippets verwendet, aber der Großteil des Inhalts ist selbst geschrieben."
   ]
  },
  {
   "cell_type": "code",
   "execution_count": 8,
   "id": "40deb7f5",
   "metadata": {},
   "outputs": [],
   "source": [
    "import pandas as pd, re\n",
    "import matplotlib.pyplot as plt\n",
    "def load_excel_data(file_path: str) -> pd.DataFrame:\n",
    "    \"\"\"\n",
    "    Lade eine Excel-Datei und gebe die Daten als DataFrame zurück.\n",
    "    \"\"\"\n",
    "    return pd.read_excel(file_path, sheet_name=\"Questions\")\n"
   ]
  },
  {
   "cell_type": "code",
   "execution_count": null,
   "id": "d77e22cf",
   "metadata": {},
   "outputs": [],
   "source": [
    "df = load_excel_data(\"../questions/questions.xlsx\")\n",
    "df = df[:-1] # Letzte Zeile ist reine Dateninfozeile"
   ]
  },
  {
   "cell_type": "code",
   "execution_count": null,
   "id": "82c304a0",
   "metadata": {},
   "outputs": [],
   "source": [
    "# folgender Code wurde mit Hilfe von Copilot generiert\n",
    "def features(sql):\n",
    "    \"\"\"\n",
    "    Extrahiere verschiedene Merkmale aus einer SQL-Abfrage.\n",
    "    \"\"\"\n",
    "    if not isinstance(sql, str):\n",
    "        return {}\n",
    "    s = re.sub(r\"\\s+\", \" \", sql.lower())\n",
    "    return {\n",
    "        \"has_window\": bool(re.search(r\"\\bover\\s*\\(\", s) or re.search(r\"\\blag\\s*\\(\", s) or re.search(r\"\\blead\\s*\\(\", s)),\n",
    "        \"has_gapfill\": \"time_bucket_gapfill\" in s,\n",
    "        \"has_time_bucket\": \"time_bucket(\" in s,\n",
    "        \"has_stats_agg\": \"stats_agg(\" in s or \"timescaledb_experimental.stats_\" in s,\n",
    "        \"has_regr_slope\": \"regr_slope(\" in s or re.search(r\"\\bslope\\s*\\(\", s),\n",
    "        \"join_count\": len(re.findall(r\"\\bjoin\\b\", s)),\n",
    "        \"has_cte\": s.strip().startswith(\"with \"),\n",
    "        \"subquery_count\": len(re.findall(r\"\\(\\s*select\\b\", s)),\n",
    "        \"has_correlated_subq\": bool(re.search(r\"\\bexists\\s*\\(\\s*select\\b\", s) or re.search(r\"\\bin\\s*\\(\\s*select\\b\", s)),\n",
    "        \"has_case\": \" case \" in s,\n",
    "        \"has_group_by\": \" group by \" in s,\n",
    "        \"has_having\": \" having \" in s,\n",
    "        \"has_union\": \" union \" in s,\n",
    "        \"uses_arrivals_or_departures\": (\" from arrivals\" in s) or (\" from departures\" in s),\n",
    "    }\n",
    "def score(f):\n",
    "    \"\"\"\n",
    "    Berechne einen Schwierigkeitswert basierend auf den extrahierten Merkmalen.\n",
    "    \"\"\"\n",
    "    if not f: return 0\n",
    "    sc = 0\n",
    "    # heavy features\n",
    "    if f[\"has_window\"]: sc += 3\n",
    "    if f[\"has_gapfill\"]: sc += 3\n",
    "    if f[\"has_stats_agg\"]: sc += 3\n",
    "    if f[\"has_regr_slope\"]: sc += 3\n",
    "    # joins\n",
    "    if f[\"join_count\"] >= 3: sc += 3\n",
    "    elif f[\"join_count\"] == 2: sc += 2\n",
    "    elif f[\"join_count\"] == 1: sc += 1\n",
    "    # cte / having / union / correlated subq\n",
    "    if f[\"has_cte\"]: sc += 2\n",
    "    if f[\"has_having\"]: sc += 2\n",
    "    if f[\"has_union\"]: sc += 2\n",
    "    if f[\"has_correlated_subq\"]: sc += 2\n",
    "    # subquery count (non-correlated)\n",
    "    if not f[\"has_correlated_subq\"]:\n",
    "        if f[\"subquery_count\"] >= 2: sc += 2\n",
    "        elif f[\"subquery_count\"] == 1: sc += 1\n",
    "    # grouping / case / time_bucket\n",
    "    if f[\"has_group_by\"]: sc += 1\n",
    "    if f[\"has_case\"]: sc += 1\n",
    "    if f[\"has_time_bucket\"]: sc += 1  # base weight\n",
    "    heavy_flags = any([f[\"has_window\"], f[\"has_gapfill\"], f[\"has_stats_agg\"], f[\"has_regr_slope\"],\n",
    "                       f[\"join_count\"] >= 2, f[\"has_cte\"], f[\"has_having\"],\n",
    "                       f[\"has_correlated_subq\"], f[\"has_union\"]])\n",
    "    if f[\"has_time_bucket\"] and not heavy_flags:\n",
    "        # if it's essentially a resampling/aggregation task without heavy ops, discount score\n",
    "        sc -= 2\n",
    "    \n",
    "    # floor at zero\n",
    "    return max(sc, 0)"
   ]
  },
  {
   "cell_type": "code",
   "execution_count": 23,
   "id": "29a60bfa",
   "metadata": {},
   "outputs": [],
   "source": [
    "feat_df = df[\"GoldenSQL\"].apply(features).apply(pd.Series)\n",
    "df_scored = df.join(feat_df)\n",
    "df_scored[\"complexity_score\"] = df_scored.apply(lambda r: score({k:r[k] for k in feat_df.columns}), axis=1)"
   ]
  },
  {
   "cell_type": "code",
   "execution_count": 27,
   "id": "10b7df27",
   "metadata": {},
   "outputs": [],
   "source": [
    "# Verteilung der Scores in Bins: 1-6, 7-10, 11+\n",
    "score_bin_edges = [-0.5, 5.5, 10.5, float(\"inf\")]\n",
    "score_bin_labels = [\"leicht\", \"mittel\", \"schwer\"]\n",
    "\n",
    "df_scored[\"score_bin\"] = pd.cut(\n",
    "    df_scored[\"complexity_score\"],\n",
    "    bins=score_bin_edges,\n",
    "    labels=score_bin_labels,\n",
    "    include_lowest=True,\n",
    "    right=True,\n",
    ")\n",
    "# Zusammenfassung und Plot\n",
    "score_summary = (\n",
    "    df_scored[\"score_bin\"].value_counts().reindex(score_bin_labels, fill_value=0).reset_index()\n",
    ")\n",
    "score_summary.columns = [\"difficulty\", \"count\"]"
   ]
  },
  {
   "cell_type": "code",
   "execution_count": 40,
   "id": "a7c61bb5",
   "metadata": {},
   "outputs": [
    {
     "data": {
      "image/png": "[encoded data removed]",
      "text/plain": [
       "<Figure size 640x480 with 1 Axes>"
      ]
     },
     "metadata": {},
     "output_type": "display_data"
    }
   ],
   "source": [
    "# Bar chart showing count of items per difficulty level\n",
    "plt.figure()\n",
    "plt.bar(score_summary[\"difficulty\"], score_summary[\"count\"], color=[\"green\", \"orange\", \"red\"])\n",
    "plt.xticks(score_summary[\"difficulty\"], [f\"{lbl}\\n({cnt})\" for lbl, cnt in zip(score_summary[\"difficulty\"], score_summary[\"count\"])])\n",
    "plt.title(\"Verteilung der Bewertung nach Schwierigkeit (0-5, 6-10, 11+)\")\n",
    "plt.xlabel(\"Schwierigkeit\")\n",
    "plt.ylabel(\"Anzahl der Fragen\")\n",
    "plt.tight_layout()\n",
    "plt.show()"
   ]
  },
  {
   "cell_type": "code",
   "execution_count": null,
   "id": "998e2364",
   "metadata": {},
   "outputs": [],
   "source": [
    "# save to questions_scored.xlsx\n",
    "df_scored.to_excel(\"../questions/questions.xlsx\", index=False)"
   ]
  }
 ],
 "metadata": {
  "kernelspec": {
   "display_name": "llm",
   "language": "python",
   "name": "python3"
  },
  "language_info": {
   "codemirror_mode": {
    "name": "ipython",
    "version": 3
   },
   "file_extension": ".py",
   "mimetype": "text/x-python",
   "name": "python",
   "nbconvert_exporter": "python",
   "pygments_lexer": "ipython3",
   "version": "3.11.9"
  }
 },
 "nbformat": 4,
 "nbformat_minor": 5
}
